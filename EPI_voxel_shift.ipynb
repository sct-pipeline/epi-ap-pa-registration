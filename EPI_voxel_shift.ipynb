{
 "cells": [
  {
   "cell_type": "code",
   "execution_count": 2,
   "metadata": {},
   "outputs": [],
   "source": [
    "# Code to be run in current directory\n",
    "\n",
    "import numpy as np\n",
    "import nibabel as nib\n",
    "import matplotlib.pyplot as plt"
   ]
  },
  {
   "cell_type": "code",
   "execution_count": 30,
   "metadata": {},
   "outputs": [],
   "source": [
    "def get_voxel_shift(AP, PA):\n",
    "    number_slices_AP = 0\n",
    "    number_slices_PA = 0\n",
    "    nb_pixels_AP = 0\n",
    "    nb_pixels_PA = 0\n",
    "    shifts = []\n",
    "    # get center of mask in mm\n",
    "    AP_data = AP.get_fdata()\n",
    "    PA_data = PA.get_fdata()\n",
    "\n",
    "    for slice in range(AP_data.shape[2]):\n",
    "        AP_slice = AP_data[:, :, slice]\n",
    "        PA_slice = PA_data[:, :, slice]\n",
    "        \n",
    "        if np.sum(AP_slice) > 0:\n",
    "            nb_pixels_AP += np.sum(AP_slice)\n",
    "            number_slices_AP += 1\n",
    "            AP_center = np.mean(np.where(AP_slice > 0), axis=1)\n",
    "        if np.sum(PA_slice) > 0:\n",
    "            nb_pixels_PA += np.sum(PA_slice)\n",
    "            number_slices_PA += 1\n",
    "            PA_center = np.mean(np.where(PA_slice > 0), axis=1)\n",
    "        \n",
    "        if np.sum(AP_slice) > 0 and np.sum(PA_slice) > 0:\n",
    "            # get y shift in mm\n",
    "            AP_center = np.append(AP_center, [slice, 1])\n",
    "            PA_center = np.append(PA_center, [slice, 1])\n",
    "            _, y_AP, _, _ = AP.affine @ AP_center\n",
    "            _, y_PA, _ , _= PA.affine @ PA_center\n",
    "            shifts.append(abs(y_AP - y_PA))\n",
    "        \n",
    "        else:\n",
    "            shifts.append(np.nan)\n",
    "\n",
    "    print(f\"number of slices with mask in AP: {number_slices_AP}\")\n",
    "    print(f\"number of slices with mask in PA: {number_slices_PA}\")\n",
    "    print(f\"number of pixels in AP: {nb_pixels_AP}\")\n",
    "    print(f\"number of pixels in PA: {nb_pixels_PA}\")\n",
    "    print(f\"mean shift: {np.nanmean(shifts)}\")\n",
    "    \n",
    "    for i, shift in enumerate(shifts):\n",
    "        print(f\"slice {i+1}: {shift}\")"
   ]
  },
  {
   "cell_type": "markdown",
   "metadata": {},
   "source": [
    "## Baseline"
   ]
  },
  {
   "cell_type": "code",
   "execution_count": 31,
   "metadata": {},
   "outputs": [
    {
     "name": "stdout",
     "output_type": "stream",
     "text": [
      "number of slices with mask in AP: 13\n",
      "number of slices with mask in PA: 13\n",
      "number of pixels in AP: 805.0\n",
      "number of pixels in PA: 819.0\n",
      "mean shift: 4.403227149593286\n",
      "slice 1: nan\n",
      "slice 2: nan\n",
      "slice 3: 3.459289659772601\n",
      "slice 4: 6.8753930965391525\n",
      "slice 5: 10.779171466827393\n",
      "slice 6: 8.887372434139252\n",
      "slice 7: 7.886060510362899\n",
      "slice 8: 5.357269762993489\n",
      "slice 9: 4.739796834841272\n",
      "slice 10: 2.8452743047241498\n",
      "slice 11: 1.090708704261509\n",
      "slice 12: 1.3967108246568003\n",
      "slice 13: 0.6001472286739151\n",
      "slice 14: 0.741037568049645\n",
      "slice 15: 2.583720548870648\n"
     ]
    }
   ],
   "source": [
    "AP = nib.load(\"data/acdc_226/baseline/nnUNet_preds/ood_epi_baseline_AP_mean.nii.gz\")\n",
    "PA = nib.load(\"data/acdc_226/baseline/nnUNet_preds/ood_epi_baseline_PA_mean.nii.gz\")\n",
    "\n",
    "get_voxel_shift(AP, PA)"
   ]
  },
  {
   "cell_type": "markdown",
   "metadata": {},
   "source": [
    "## 0-2 SH"
   ]
  },
  {
   "cell_type": "code",
   "execution_count": 32,
   "metadata": {},
   "outputs": [
    {
     "name": "stdout",
     "output_type": "stream",
     "text": [
      "number of slices with mask in AP: 13\n",
      "number of slices with mask in PA: 13\n",
      "number of pixels in AP: 849.0\n",
      "number of pixels in PA: 876.0\n",
      "mean shift: 5.111890294531884\n",
      "slice 1: nan\n",
      "slice 2: nan\n",
      "slice 3: 6.742460469085653\n",
      "slice 4: 7.9247696562246865\n",
      "slice 5: 10.286327992950252\n",
      "slice 6: 6.790706107490944\n",
      "slice 7: 4.937285813035409\n",
      "slice 8: 3.434184109463409\n",
      "slice 9: 2.274467921352887\n",
      "slice 10: 1.3046958675856288\n",
      "slice 11: 0.8610260039908084\n",
      "slice 12: 2.6364640167781275\n",
      "slice 13: 3.931505036641312\n",
      "slice 14: 4.496688406436096\n",
      "slice 15: 10.83399242787928\n"
     ]
    }
   ],
   "source": [
    "AP = nib.load(\"data/acdc_226/012/nnUNet_preds/ood_epi_012_AP_mean.nii.gz\")\n",
    "PA = nib.load(\"data/acdc_226/012/nnUNet_preds/ood_epi_012_PA_mean.nii.gz\")\n",
    "\n",
    "get_voxel_shift(AP, PA)"
   ]
  },
  {
   "cell_type": "markdown",
   "metadata": {},
   "source": [
    "## 0-2 SH + MC"
   ]
  },
  {
   "cell_type": "code",
   "execution_count": 33,
   "metadata": {},
   "outputs": [
    {
     "name": "stdout",
     "output_type": "stream",
     "text": [
      "number of slices with mask in AP: 15\n",
      "number of slices with mask in PA: 15\n",
      "number of pixels in AP: 820.0\n",
      "number of pixels in PA: 783.0\n",
      "mean shift: 3.0445504886387735\n",
      "slice 1: 9.59101279377937\n",
      "slice 2: 6.079096371043814\n",
      "slice 3: 1.6616114118824825\n",
      "slice 4: 2.1331588610123617\n",
      "slice 5: 4.6092753410339355\n",
      "slice 6: 2.6050749051276867\n",
      "slice 7: 2.1473026108385938\n",
      "slice 8: 1.0086152570272233\n",
      "slice 9: 1.5678794860839815\n",
      "slice 10: 2.637978437222529\n",
      "slice 11: 1.7728752234886471\n",
      "slice 12: 3.9833301878594725\n",
      "slice 13: 2.308267021179205\n",
      "slice 14: 1.3092882513999982\n",
      "slice 15: 2.2534911706023024\n"
     ]
    }
   ],
   "source": [
    "AP = nib.load(\"data/acdc_226/012_coil/nnUnet_preds/ood_epi_012_coil_AP_mean.nii.gz\")\n",
    "PA = nib.load(\"data/acdc_226/012_coil/nnUnet_preds/ood_epi_012_coil_PA_mean.nii.gz\")\n",
    "\n",
    "get_voxel_shift(AP, PA)\n",
    "\n"
   ]
  },
  {
   "cell_type": "markdown",
   "metadata": {},
   "source": [
    "## 0-2 SH + dyn MC"
   ]
  },
  {
   "cell_type": "code",
   "execution_count": 34,
   "metadata": {},
   "outputs": [
    {
     "name": "stdout",
     "output_type": "stream",
     "text": [
      "number of slices with mask in AP: 15\n",
      "number of slices with mask in PA: 15\n",
      "number of pixels in AP: 796.0\n",
      "number of pixels in PA: 746.0\n",
      "mean shift: 2.6118755420771302\n",
      "slice 1: 5.041267052130262\n",
      "slice 2: 5.100633584536041\n",
      "slice 3: 1.130213070401517\n",
      "slice 4: 1.4838859421866282\n",
      "slice 5: 2.9440719516653715\n",
      "slice 6: 2.888957508946355\n",
      "slice 7: 2.694792866706848\n",
      "slice 8: 2.5471559746902415\n",
      "slice 9: 3.3119593217097645\n",
      "slice 10: 2.997592203599858\n",
      "slice 11: 2.2765323330716356\n",
      "slice 12: 3.1917546680995343\n",
      "slice 13: 0.7590251761899509\n",
      "slice 14: 1.0739337130290671\n",
      "slice 15: 1.7363577641938868\n"
     ]
    }
   ],
   "source": [
    "AP = nib.load(\"data/acdc_226/012_coil_dyn/nnUNet_preds/ood_epi_012_coil_dyn_AP_mean.nii.gz\")\n",
    "PA = nib.load(\"data/acdc_226/012_coil_dyn/nnUNet_preds/ood_epi_012_coil_dyn_PA_mean.nii.gz\")\n",
    "\n",
    "get_voxel_shift(AP, PA)"
   ]
  }
 ],
 "metadata": {
  "kernelspec": {
   "display_name": "plots",
   "language": "python",
   "name": "python3"
  },
  "language_info": {
   "codemirror_mode": {
    "name": "ipython",
    "version": 3
   },
   "file_extension": ".py",
   "mimetype": "text/x-python",
   "name": "python",
   "nbconvert_exporter": "python",
   "pygments_lexer": "ipython3",
   "version": "3.12.0"
  }
 },
 "nbformat": 4,
 "nbformat_minor": 2
}

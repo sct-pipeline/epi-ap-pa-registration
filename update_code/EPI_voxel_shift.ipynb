{
 "cells": [
  {
   "cell_type": "code",
   "execution_count": 1,
   "metadata": {},
   "outputs": [],
   "source": [
    "import numpy as np\n",
    "import nibabel as nib\n",
    "import matplotlib.pyplot as plt"
   ]
  },
  {
   "cell_type": "code",
   "execution_count": 7,
   "metadata": {},
   "outputs": [],
   "source": [
    "def get_voxel_shift(AP, PA):\n",
    "    number_slices_AP = 0\n",
    "    number_slices_PA = 0\n",
    "    nb_pixels_AP = 0\n",
    "    nb_pixels_PA = 0\n",
    "    shifts = []\n",
    "    # get center of mask in mm\n",
    "    AP_data = AP.get_fdata()\n",
    "    PA_data = PA.get_fdata()\n",
    "\n",
    "    for slice in range(AP_data.shape[2]):\n",
    "        AP_slice = AP_data[:, :, slice]\n",
    "        PA_slice = PA_data[:, :, slice]\n",
    "        \n",
    "        if np.sum(AP_slice) > 0:\n",
    "            nb_pixels_AP += np.sum(AP_slice)\n",
    "            number_slices_AP += 1\n",
    "            AP_center = np.mean(np.where(AP_slice > 0), axis=1)\n",
    "        if np.sum(PA_slice) > 0:\n",
    "            nb_pixels_PA += np.sum(PA_slice)\n",
    "            number_slices_PA += 1\n",
    "            PA_center = np.mean(np.where(PA_slice > 0), axis=1)\n",
    "        \n",
    "        if np.sum(AP_slice) > 0 and np.sum(PA_slice) > 0:\n",
    "            # get y shift in mm\n",
    "            shifts.append(abs(AP_center[1] - PA_center[1]))\n",
    "\n",
    "    print(f\"number of slices with mask in AP: {number_slices_AP}\")\n",
    "    print(f\"number of slices with mask in PA: {number_slices_PA}\")\n",
    "    print(f\"number of pixels in AP: {nb_pixels_AP}\")\n",
    "    print(f\"number of pixels in PA: {nb_pixels_PA}\")\n",
    "    print(f\"mean shift: {np.mean(shifts)}\")"
   ]
  },
  {
   "cell_type": "markdown",
   "metadata": {},
   "source": [
    "## Baseline"
   ]
  },
  {
   "cell_type": "code",
   "execution_count": 14,
   "metadata": {},
   "outputs": [
    {
     "name": "stdout",
     "output_type": "stream",
     "text": [
      "number of slices with mask in AP: 11\n",
      "number of slices with mask in PA: 11\n",
      "number of pixels in AP: 749.0\n",
      "number of pixels in PA: 775.0\n",
      "mean shift: 4.06233750991613\n"
     ]
    }
   ],
   "source": [
    "AP = nib.load(\"subject_3/baseline/nnUNet_preds/ood_epi_baseline_AP_mean.nii.gz\")\n",
    "PA = nib.load(\"subject_3/baseline/nnUNet_preds/ood_epi_baseline_PA_mean.nii.gz\")\n",
    "\n",
    "get_voxel_shift(AP, PA)"
   ]
  },
  {
   "cell_type": "markdown",
   "metadata": {},
   "source": [
    "## 0-2 SH"
   ]
  },
  {
   "cell_type": "code",
   "execution_count": 15,
   "metadata": {},
   "outputs": [
    {
     "name": "stdout",
     "output_type": "stream",
     "text": [
      "number of slices with mask in AP: 13\n",
      "number of slices with mask in PA: 13\n",
      "number of pixels in AP: 711.0\n",
      "number of pixels in PA: 862.0\n",
      "mean shift: 5.6527114844453905\n"
     ]
    }
   ],
   "source": [
    "AP = nib.load(\"subject_3/012/nnUNet_preds/ood_epi_012_AP_mean.nii.gz\")\n",
    "PA = nib.load(\"subject_3/012/nnUNet_preds/ood_epi_012_PA_mean.nii.gz\")\n",
    "\n",
    "get_voxel_shift(AP, PA)"
   ]
  },
  {
   "cell_type": "markdown",
   "metadata": {},
   "source": [
    "## 0-2 SH + MC"
   ]
  },
  {
   "cell_type": "code",
   "execution_count": 8,
   "metadata": {},
   "outputs": [
    {
     "name": "stdout",
     "output_type": "stream",
     "text": [
      "number of slices with mask in AP: 13\n",
      "number of slices with mask in PA: 13\n",
      "number of pixels in AP: 803.0\n",
      "number of pixels in PA: 904.0\n",
      "mean shift: 2.1450283136105224\n"
     ]
    }
   ],
   "source": [
    "AP = nib.load(\"subject_3/012_coil/nnUnet_preds/ood_epi_012_coil_AP_mean.nii.gz\")\n",
    "PA = nib.load(\"subject_3/012_coil/nnUnet_preds/ood_epi_012_coil_PA_mean.nii.gz\")\n",
    "\n",
    "get_voxel_shift(AP, PA)\n",
    "\n"
   ]
  },
  {
   "cell_type": "markdown",
   "metadata": {},
   "source": [
    "## 0-2 SH + dyn MC"
   ]
  },
  {
   "cell_type": "code",
   "execution_count": 16,
   "metadata": {},
   "outputs": [
    {
     "name": "stdout",
     "output_type": "stream",
     "text": [
      "number of slices with mask in AP: 15\n",
      "number of slices with mask in PA: 13\n",
      "number of pixels in AP: 880.0\n",
      "number of pixels in PA: 878.0\n",
      "mean shift: 2.3774808227569717\n"
     ]
    }
   ],
   "source": [
    "AP = nib.load(\"subject_3/012_coil_dyn/nnUNet_preds/ood_epi_012_coil_dyn_AP_mean.nii.gz\")\n",
    "PA = nib.load(\"subject_3/012_coil_dyn/nnUNet_preds/ood_epi_012_coil_dyn_PA_mean.nii.gz\")\n",
    "\n",
    "get_voxel_shift(AP, PA)"
   ]
  }
 ],
 "metadata": {
  "kernelspec": {
   "display_name": "plots",
   "language": "python",
   "name": "python3"
  },
  "language_info": {
   "codemirror_mode": {
    "name": "ipython",
    "version": 3
   },
   "file_extension": ".py",
   "mimetype": "text/x-python",
   "name": "python",
   "nbconvert_exporter": "python",
   "pygments_lexer": "ipython3",
   "version": "3.12.0"
  }
 },
 "nbformat": 4,
 "nbformat_minor": 2
}
